{
 "cells": [
  {
   "cell_type": "markdown",
   "id": "da54a4e6",
   "metadata": {},
   "source": [
    "# Data Exploration"
   ]
  },
  {
   "cell_type": "code",
   "execution_count": 21,
   "id": "a0d3f2a0",
   "metadata": {},
   "outputs": [
    {
     "name": "stdout",
     "output_type": "stream",
     "text": [
      "                                            Headline     Stance  \\\n",
      "0  Former British Rapper Reportedly Under Investi...  unrelated   \n",
      "1       US hostage Luke Somers dies after rescue bid    discuss   \n",
      "2  Nicaragua asks U.S. for help investigating met...  unrelated   \n",
      "3  Reports Isis fighters have contracted Ebola ar...    discuss   \n",
      "4                   ISIS Beheads American Journalist  unrelated   \n",
      "\n",
      "                                         articleBody  \n",
      "0  Description: Fake news / Satire\\nCirculating s...  \n",
      "1  SANAA, Dec 6 (Reuters) - U.S. journalist Luke ...  \n",
      "2  Nikolai Kryaglyachenko, 12, now attracts coins...  \n",
      "3  Reports that Islamic State militants in Mosul ...  \n",
      "4  A touching tribute to the victims of the Charl...  \n"
     ]
    }
   ],
   "source": [
    "import pandas as pd\n",
    "\n",
    "df = pd.read_excel(\"fakenews.xlsx\")\n",
    "\n",
    "print(df.head())\n"
   ]
  },
  {
   "cell_type": "code",
   "execution_count": 22,
   "id": "b5e675b3",
   "metadata": {},
   "outputs": [
    {
     "name": "stdout",
     "output_type": "stream",
     "text": [
      "                                            Headline     Stance  \\\n",
      "0  Former British Rapper Reportedly Under Investi...  unrelated   \n",
      "1       US hostage Luke Somers dies after rescue bid    discuss   \n",
      "2                                           Ellipsis   Ellipsis   \n",
      "\n",
      "                          articleBody  \n",
      "0  Description: Fake news / Satire...  \n",
      "1           SANAA, Dec 6 (Reuters)...  \n",
      "2                            Ellipsis  \n"
     ]
    }
   ],
   "source": [
    "import pandas as pd\n",
    "\n",
    "df = pd.DataFrame({\n",
    "    'Headline': ['Former British Rapper Reportedly Under Investigation', 'US hostage Luke Somers dies after rescue bid', ...],\n",
    "    'Stance': ['unrelated', 'discuss', ...],\n",
    "    'articleBody': ['Description: Fake news / Satire...', 'SANAA, Dec 6 (Reuters)...', ...]\n",
    "})\n",
    "\n",
    "print(df.head())\n"
   ]
  },
  {
   "cell_type": "markdown",
   "id": "a1278f58",
   "metadata": {},
   "source": [
    "# Pre-processing Text Data"
   ]
  },
  {
   "cell_type": "code",
   "execution_count": 23,
   "id": "cdfe2031",
   "metadata": {},
   "outputs": [],
   "source": [
    "import re\n",
    "from nltk.corpus import stopwords\n",
    "from nltk.tokenize import word_tokenize\n",
    "\n",
    "def preprocess_text(text):\n",
    "    if isinstance(text, str):  \n",
    "        text = re.sub(r'\\W', ' ', text)  \n",
    "        text = re.sub(r'\\s+', ' ', text)  \n",
    "        text = text.lower() \n",
    "        text = word_tokenize(text)  \n",
    "        text = [word for word in text if word not in stopwords.words('english')]  \n",
    "        return ' '.join(text)\n",
    "    else:\n",
    "        return \"\"  \n",
    "\n",
    "df['cleaned_headline'] = df['Headline'].apply(preprocess_text)\n",
    "df['cleaned_body'] = df['articleBody'].apply(preprocess_text)\n"
   ]
  },
  {
   "cell_type": "markdown",
   "id": "64ccc342",
   "metadata": {},
   "source": [
    "# Handling Missing or Non-String Data in the Stance Column and Encoding Stance Labels"
   ]
  },
  {
   "cell_type": "code",
   "execution_count": 24,
   "id": "800b6a37",
   "metadata": {},
   "outputs": [],
   "source": [
    "df['Stance'] = df['Stance'].apply(lambda x: x if isinstance(x, str) else 'unrelated')\n",
    "\n",
    "from sklearn.preprocessing import LabelEncoder\n",
    "\n",
    "le = LabelEncoder()\n",
    "df['encoded_stance'] = le.fit_transform(df['Stance'])\n"
   ]
  },
  {
   "cell_type": "markdown",
   "id": "cdaf3ad2",
   "metadata": {},
   "source": [
    "# Combining Text Features and Applying TF-IDF Vectorization"
   ]
  },
  {
   "cell_type": "code",
   "execution_count": 25,
   "id": "cd0a5782",
   "metadata": {},
   "outputs": [],
   "source": [
    "from sklearn.feature_extraction.text import TfidfVectorizer\n",
    "\n",
    "df['combined'] = df['cleaned_headline'] + \" \" + df['cleaned_body']\n",
    "\n",
    "tfidf_vectorizer = TfidfVectorizer(max_features=5000)\n",
    "X_tfidf = tfidf_vectorizer.fit_transform(df['combined'])"
   ]
  },
  {
   "cell_type": "markdown",
   "id": "f4c5a333",
   "metadata": {},
   "source": [
    "# Training and Evaluating SVM Model"
   ]
  },
  {
   "cell_type": "code",
   "execution_count": 26,
   "id": "c8307962",
   "metadata": {},
   "outputs": [
    {
     "name": "stdout",
     "output_type": "stream",
     "text": [
      "TF-IDF + SVM Accuracy: 1.0\n"
     ]
    }
   ],
   "source": [
    "from sklearn.model_selection import train_test_split\n",
    "\n",
    "X_train, X_test, y_train, y_test = train_test_split(X_tfidf, df['encoded_stance'], test_size=0.2, random_state=42)\n",
    "\n",
    "from sklearn.svm import SVC\n",
    "from sklearn.metrics import accuracy_score\n",
    "\n",
    "model_svm = SVC()\n",
    "model_svm.fit(X_train, y_train)\n",
    "\n",
    "y_pred = model_svm.predict(X_test)\n",
    "print(\"TF-IDF + SVM Accuracy:\", accuracy_score(y_test, y_pred))\n"
   ]
  },
  {
   "cell_type": "code",
   "execution_count": 27,
   "id": "08c28233",
   "metadata": {},
   "outputs": [
    {
     "name": "stdout",
     "output_type": "stream",
     "text": [
      "Class distribution in the training set: Counter({0: 1, 1: 1})\n"
     ]
    }
   ],
   "source": [
    "from collections import Counter\n",
    "\n",
    "print(\"Class distribution in the training set:\", Counter(y_train))"
   ]
  },
  {
   "cell_type": "code",
   "execution_count": 28,
   "id": "8de2dca0",
   "metadata": {},
   "outputs": [
    {
     "name": "stdout",
     "output_type": "stream",
     "text": [
      "Manual evaluation result: 1    True\n",
      "2    True\n",
      "Name: encoded_stance, dtype: bool\n"
     ]
    }
   ],
   "source": [
    "X_train_simple = X_train  \n",
    "y_train_simple = y_train\n",
    "\n",
    "model_svm.fit(X_train_simple, y_train_simple)\n",
    "\n",
    "y_pred_simple = model_svm.predict(X_train_simple)\n",
    "print(\"Manual evaluation result:\", y_pred_simple == y_train_simple)"
   ]
  },
  {
   "cell_type": "code",
   "execution_count": 20,
   "id": "8ab660cf",
   "metadata": {},
   "outputs": [
    {
     "name": "stdout",
     "output_type": "stream",
     "text": [
      "Manual evaluation result: 1    True\n",
      "2    True\n",
      "Name: encoded_stance, dtype: bool\n"
     ]
    }
   ],
   "source": [
    "model_svm.fit(X_train, y_train)\n",
    "\n",
    "y_pred = model_svm.predict(X_train)\n",
    "\n",
    "evaluation_results = y_pred == y_train\n",
    "print(\"Manual evaluation result:\", evaluation_results)\n",
    "\n"
   ]
  }
 ],
 "metadata": {
  "kernelspec": {
   "display_name": "Python 3 (ipykernel)",
   "language": "python",
   "name": "python3"
  },
  "language_info": {
   "codemirror_mode": {
    "name": "ipython",
    "version": 3
   },
   "file_extension": ".py",
   "mimetype": "text/x-python",
   "name": "python",
   "nbconvert_exporter": "python",
   "pygments_lexer": "ipython3",
   "version": "3.11.5"
  }
 },
 "nbformat": 4,
 "nbformat_minor": 5
}
